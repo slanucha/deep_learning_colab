{
  "nbformat": 4,
  "nbformat_minor": 0,
  "metadata": {
    "colab": {
      "name": "FashionMNIST",
      "version": "0.3.2",
      "provenance": [],
      "collapsed_sections": [],
      "include_colab_link": true
    },
    "kernelspec": {
      "name": "python3",
      "display_name": "Python 3"
    }
  },
  "cells": [
    {
      "cell_type": "markdown",
      "metadata": {
        "id": "view-in-github",
        "colab_type": "text"
      },
      "source": [
        "<a href=\"https://colab.research.google.com/github/slanucha/deep_learning_colab/blob/master/FashionMNIST.ipynb\" target=\"_parent\"><img src=\"https://colab.research.google.com/assets/colab-badge.svg\" alt=\"Open In Colab\"/></a>"
      ]
    },
    {
      "cell_type": "code",
      "metadata": {
        "id": "yb0RbJ3YSck9",
        "colab_type": "code",
        "colab": {}
      },
      "source": [
        "import numpy as np\n",
        "import tensorflow as tf\n",
        "import matplotlib.pyplot as plt\n",
        "\n",
        "%matplotlib inline\n",
        "\n",
        "from tensorflow.keras.models import Sequential\n",
        "from tensorflow.keras.layers import Dense, Conv2D, Flatten, MaxPooling2D, Activation, Dropout, BatchNormalization\n",
        "from tensorflow.keras.utils import to_categorical"
      ],
      "execution_count": 0,
      "outputs": []
    },
    {
      "cell_type": "code",
      "metadata": {
        "id": "We4JzFzMSmxt",
        "colab_type": "code",
        "colab": {
          "base_uri": "https://localhost:8080/",
          "height": 153
        },
        "outputId": "e7af8191-f32c-4de5-9a28-22e7bd4fd22f"
      },
      "source": [
        "(x_train, y_train), (x_test, y_test) = tf.keras.datasets.fashion_mnist.load_data()"
      ],
      "execution_count": 2,
      "outputs": [
        {
          "output_type": "stream",
          "text": [
            "Downloading data from https://storage.googleapis.com/tensorflow/tf-keras-datasets/train-labels-idx1-ubyte.gz\n",
            "32768/29515 [=================================] - 0s 0us/step\n",
            "Downloading data from https://storage.googleapis.com/tensorflow/tf-keras-datasets/train-images-idx3-ubyte.gz\n",
            "26427392/26421880 [==============================] - 0s 0us/step\n",
            "Downloading data from https://storage.googleapis.com/tensorflow/tf-keras-datasets/t10k-labels-idx1-ubyte.gz\n",
            "8192/5148 [===============================================] - 0s 0us/step\n",
            "Downloading data from https://storage.googleapis.com/tensorflow/tf-keras-datasets/t10k-images-idx3-ubyte.gz\n",
            "4423680/4422102 [==============================] - 0s 0us/step\n"
          ],
          "name": "stdout"
        }
      ]
    },
    {
      "cell_type": "code",
      "metadata": {
        "id": "jwmq_sf6Sr5U",
        "colab_type": "code",
        "colab": {
          "base_uri": "https://localhost:8080/",
          "height": 286
        },
        "outputId": "38b611e4-7a72-4ddb-f218-4da191f099e9"
      },
      "source": [
        "plt.imshow(x_train[0], cmap='gray_r')"
      ],
      "execution_count": 3,
      "outputs": [
        {
          "output_type": "execute_result",
          "data": {
            "text/plain": [
              "<matplotlib.image.AxesImage at 0x7f8fb1333438>"
            ]
          },
          "metadata": {
            "tags": []
          },
          "execution_count": 3
        },
        {
          "output_type": "display_data",
          "data": {
            "image/png": "[encoded data removed]",
            "text/plain": [
              "<Figure size 432x288 with 1 Axes>"
            ]
          },
          "metadata": {
            "tags": []
          }
        }
      ]
    },
    {
      "cell_type": "code",
      "metadata": {
        "id": "DlsGsiakSuqs",
        "colab_type": "code",
        "colab": {}
      },
      "source": [
        "x_train = x_train / 255\n",
        "x_train = np.reshape(x_train, (-1, 28, 28, 1))\n",
        "y_train = to_categorical(y_train, num_classes=10)\n",
        "\n",
        "x_test = x_test / 255\n",
        "x_test = np.reshape(x_test, (-1, 28, 28, 1))\n",
        "y_test = to_categorical(y_test, num_classes=10)\n",
        "\n",
        "in_shape = (28, 28, 1)\n",
        "out_shape = 10"
      ],
      "execution_count": 0,
      "outputs": []
    },
    {
      "cell_type": "code",
      "metadata": {
        "id": "-INCxeVZS4Ub",
        "colab_type": "code",
        "colab": {
          "base_uri": "https://localhost:8080/",
          "height": 105
        },
        "outputId": "203aee07-9b98-44c7-ada7-551419938fe5"
      },
      "source": [
        "model = Sequential()\n",
        "\n",
        "model.add(Conv2D(filters=32, kernel_size=(3,3), input_shape=in_shape))\n",
        "model.add(BatchNormalization())\n",
        "model.add(Activation('relu'))\n",
        "model.add(MaxPooling2D())\n",
        "\n",
        "model.add(Conv2D(filters=64, kernel_size=(3,3)))\n",
        "model.add(BatchNormalization())\n",
        "model.add(Activation('relu'))\n",
        "model.add(MaxPooling2D())\n",
        "\n",
        "model.add(Conv2D(filters=128, kernel_size=(3,3)))\n",
        "model.add(BatchNormalization())\n",
        "model.add(Activation('relu'))\n",
        "model.add(MaxPooling2D())\n",
        "\n",
        "model.add(Flatten())\n",
        "model.add(Dense(units=300))\n",
        "model.add(Activation('relu'))\n",
        "model.add(Dropout(0.2))\n",
        "model.add(Dense(units=out_shape))\n",
        "model.add(Activation('softmax'))"
      ],
      "execution_count": 5,
      "outputs": [
        {
          "output_type": "stream",
          "text": [
            "WARNING: Logging before flag parsing goes to stderr.\n",
            "W0712 13:07:27.465776 140256075306880 deprecation.py:506] From /usr/local/lib/python3.6/dist-packages/tensorflow/python/ops/init_ops.py:1251: calling VarianceScaling.__init__ (from tensorflow.python.ops.init_ops) with dtype is deprecated and will be removed in a future version.\n",
            "Instructions for updating:\n",
            "Call initializer instance with the dtype argument instead of passing it to the constructor\n"
          ],
          "name": "stderr"
        }
      ]
    },
    {
      "cell_type": "code",
      "metadata": {
        "id": "lFJkR_4nS6tU",
        "colab_type": "code",
        "colab": {}
      },
      "source": [
        "model.compile(optimizer='adam', loss='categorical_crossentropy', metrics=['accuracy'])"
      ],
      "execution_count": 0,
      "outputs": []
    },
    {
      "cell_type": "code",
      "metadata": {
        "id": "oCPv4ZjVTMFe",
        "colab_type": "code",
        "colab": {
          "base_uri": "https://localhost:8080/",
          "height": 561
        },
        "outputId": "01b1c3d6-2aa4-4e6b-a5d0-224b65de9771"
      },
      "source": [
        "r = model.fit(x_train, y_train, validation_split=0.33, epochs=15, batch_size=32)\n",
        "print(\"Returned:\", r)"
      ],
      "execution_count": 7,
      "outputs": [
        {
          "output_type": "stream",
          "text": [
            "Train on 40199 samples, validate on 19801 samples\n",
            "Epoch 1/15\n",
            "40199/40199 [==============================] - 89s 2ms/sample - loss: 0.4984 - acc: 0.8197 - val_loss: 0.3848 - val_acc: 0.8594\n",
            "Epoch 2/15\n",
            "40199/40199 [==============================] - 88s 2ms/sample - loss: 0.3516 - acc: 0.8717 - val_loss: 0.4273 - val_acc: 0.8386\n",
            "Epoch 3/15\n",
            "40199/40199 [==============================] - 88s 2ms/sample - loss: 0.3044 - acc: 0.8871 - val_loss: 0.3144 - val_acc: 0.8867\n",
            "Epoch 4/15\n",
            "40199/40199 [==============================] - 88s 2ms/sample - loss: 0.2701 - acc: 0.9001 - val_loss: 0.3345 - val_acc: 0.8819\n",
            "Epoch 5/15\n",
            "40199/40199 [==============================] - 92s 2ms/sample - loss: 0.2428 - acc: 0.9111 - val_loss: 0.3124 - val_acc: 0.8895\n",
            "Epoch 6/15\n",
            "40199/40199 [==============================] - 92s 2ms/sample - loss: 0.2219 - acc: 0.9168 - val_loss: 0.3859 - val_acc: 0.8672\n",
            "Epoch 7/15\n",
            "40199/40199 [==============================] - 92s 2ms/sample - loss: 0.1963 - acc: 0.9242 - val_loss: 0.3656 - val_acc: 0.8788\n",
            "Epoch 8/15\n",
            "40199/40199 [==============================] - 94s 2ms/sample - loss: 0.1773 - acc: 0.9338 - val_loss: 0.3213 - val_acc: 0.8910\n",
            "Epoch 9/15\n",
            "40199/40199 [==============================] - 96s 2ms/sample - loss: 0.1576 - acc: 0.9406 - val_loss: 0.3518 - val_acc: 0.8899\n",
            "Epoch 10/15\n",
            "40199/40199 [==============================] - 99s 2ms/sample - loss: 0.1450 - acc: 0.9454 - val_loss: 0.3961 - val_acc: 0.8862\n",
            "Epoch 11/15\n",
            "40199/40199 [==============================] - 94s 2ms/sample - loss: 0.1320 - acc: 0.9499 - val_loss: 0.3770 - val_acc: 0.8896\n",
            "Epoch 12/15\n",
            "40199/40199 [==============================] - 100s 2ms/sample - loss: 0.1181 - acc: 0.9551 - val_loss: 0.4898 - val_acc: 0.8644\n",
            "Epoch 13/15\n",
            "40199/40199 [==============================] - 99s 2ms/sample - loss: 0.1086 - acc: 0.9596 - val_loss: 0.3838 - val_acc: 0.8929\n",
            "Epoch 14/15\n",
            "40199/40199 [==============================] - 94s 2ms/sample - loss: 0.1028 - acc: 0.9609 - val_loss: 0.4198 - val_acc: 0.8901\n",
            "Epoch 15/15\n",
            "40199/40199 [==============================] - 99s 2ms/sample - loss: 0.0971 - acc: 0.9638 - val_loss: 0.4084 - val_acc: 0.8878\n",
            "Returned: <tensorflow.python.keras.callbacks.History object at 0x7f8fad914908>\n"
          ],
          "name": "stdout"
        }
      ]
    },
    {
      "cell_type": "code",
      "metadata": {
        "id": "F6TNS7pBTOP2",
        "colab_type": "code",
        "colab": {
          "base_uri": "https://localhost:8080/",
          "height": 34
        },
        "outputId": "5fc71a31-2112-4288-fb0e-3b3f44a4d3aa"
      },
      "source": [
        "print(r.history.keys())"
      ],
      "execution_count": 8,
      "outputs": [
        {
          "output_type": "stream",
          "text": [
            "dict_keys(['loss', 'acc', 'val_loss', 'val_acc'])\n"
          ],
          "name": "stdout"
        }
      ]
    },
    {
      "cell_type": "code",
      "metadata": {
        "id": "sxmYS6zRXcVh",
        "colab_type": "code",
        "colab": {
          "base_uri": "https://localhost:8080/",
          "height": 269
        },
        "outputId": "bda0799f-a8dc-4625-f977-ba0798592fd9"
      },
      "source": [
        "plt.plot(r.history['loss'], label='loss')\n",
        "plt.plot(r.history['val_loss'], label='val_loss')\n",
        "plt.legend()\n",
        "plt.show()"
      ],
      "execution_count": 9,
      "outputs": [
        {
          "output_type": "display_data",
          "data": {
            "image/png": "[encoded data removed]",
            "text/plain": [
              "<Figure size 432x288 with 1 Axes>"
            ]
          },
          "metadata": {
            "tags": []
          }
        }
      ]
    },
    {
      "cell_type": "code",
      "metadata": {
        "id": "ytow8UYoXeQI",
        "colab_type": "code",
        "colab": {
          "base_uri": "https://localhost:8080/",
          "height": 269
        },
        "outputId": "648388fd-8fda-4920-e3d6-b04f5a9c88d9"
      },
      "source": [
        "plt.plot(r.history['acc'], label='acc')\n",
        "plt.plot(r.history['val_acc'], label='val_acc')\n",
        "plt.legend()\n",
        "plt.show()"
      ],
      "execution_count": 12,
      "outputs": [
        {
          "output_type": "display_data",
          "data": {
            "image/png": "[encoded data removed]",
            "text/plain": [
              "<Figure size 432x288 with 1 Axes>"
            ]
          },
          "metadata": {
            "tags": []
          }
        }
      ]
    },
    {
      "cell_type": "code",
      "metadata": {
        "id": "4Clyc1cGXf1_",
        "colab_type": "code",
        "colab": {}
      },
      "source": [
        ""
      ],
      "execution_count": 0,
      "outputs": []
    }
  ]
}