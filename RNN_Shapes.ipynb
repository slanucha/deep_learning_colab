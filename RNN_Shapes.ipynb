{
  "nbformat": 4,
  "nbformat_minor": 0,
  "metadata": {
    "colab": {
      "name": "RNN Shapes.ipynb",
      "provenance": [],
      "authorship_tag": "ABX9TyOa6xNYE57A04RZ+gjP0aa6",
      "include_colab_link": true
    },
    "kernelspec": {
      "name": "python3",
      "display_name": "Python 3"
    }
  },
  "cells": [
    {
      "cell_type": "markdown",
      "metadata": {
        "id": "view-in-github",
        "colab_type": "text"
      },
      "source": [
        "<a href=\"https://colab.research.google.com/github/slanucha/deep_learning_colab/blob/master/RNN_Shapes.ipynb\" target=\"_parent\"><img src=\"https://colab.research.google.com/assets/colab-badge.svg\" alt=\"Open In Colab\"/></a>"
      ]
    },
    {
      "cell_type": "code",
      "metadata": {
        "id": "InJV3rYbEtD6",
        "colab_type": "code",
        "colab": {}
      },
      "source": [
        "import numpy as np\n",
        "import pandas as pd\n",
        "import tensorflow as tf\n",
        "import matplotlib.pyplot as plt\n",
        "\n",
        "from tensorflow.keras.layers import Input, SimpleRNN, Dense, Flatten\n",
        "from tensorflow.keras.models import Model\n",
        "from tensorflow.keras.optimizers import Adam"
      ],
      "execution_count": 1,
      "outputs": []
    },
    {
      "cell_type": "code",
      "metadata": {
        "id": "dP7mDSF0EuDh",
        "colab_type": "code",
        "colab": {
          "base_uri": "https://localhost:8080/",
          "height": 36
        },
        "outputId": "04542be9-8691-4ad6-88d9-0c34823b69c0"
      },
      "source": [
        "\"\"\"\n",
        "N = number of samples\n",
        "T = sequence length\n",
        "D = number of input features\n",
        "M = number of hidden units\n",
        "K = number of output units\n",
        "\"\"\""
      ],
      "execution_count": 2,
      "outputs": [
        {
          "output_type": "execute_result",
          "data": {
            "application/vnd.google.colaboratory.intrinsic+json": {
              "type": "string"
            },
            "text/plain": [
              "'\\nN = number of samples\\nT = sequence length\\nD = number of input features\\nM = number of hidden units\\nK = number of output units\\n'"
            ]
          },
          "metadata": {
            "tags": []
          },
          "execution_count": 2
        }
      ]
    },
    {
      "cell_type": "code",
      "metadata": {
        "id": "skDAOcU9FBGn",
        "colab_type": "code",
        "colab": {}
      },
      "source": [
        "N = 3\n",
        "T = 10\n",
        "D = 3\n",
        "K = 2\n",
        "X = np.random.randn(N, T, D)"
      ],
      "execution_count": 19,
      "outputs": []
    },
    {
      "cell_type": "code",
      "metadata": {
        "id": "czYnTAvLFKHn",
        "colab_type": "code",
        "colab": {}
      },
      "source": [
        "M = 5\n",
        "\n",
        "i = Input(shape=(T, D))\n",
        "x = SimpleRNN(M)(i)\n",
        "x = Dense(K)(x)\n",
        "\n",
        "model = Model(i, x)"
      ],
      "execution_count": 20,
      "outputs": []
    },
    {
      "cell_type": "code",
      "metadata": {
        "id": "vAGmZbqmFeKX",
        "colab_type": "code",
        "colab": {
          "base_uri": "https://localhost:8080/",
          "height": 72
        },
        "outputId": "f5c33305-c9aa-458a-f69f-276b1ee63cee"
      },
      "source": [
        "Yhat = model.predict(X)\n",
        "print(Yhat)"
      ],
      "execution_count": 21,
      "outputs": [
        {
          "output_type": "stream",
          "text": [
            "[[ 0.5252523   0.1105988 ]\n",
            " [ 0.45437685  0.56006336]\n",
            " [ 1.1997917  -0.56307244]]\n"
          ],
          "name": "stdout"
        }
      ]
    },
    {
      "cell_type": "code",
      "metadata": {
        "id": "6X82bP_ZG_Ov",
        "colab_type": "code",
        "colab": {
          "base_uri": "https://localhost:8080/",
          "height": 274
        },
        "outputId": "7967ca9e-b3db-481f-e94e-b9a8fe6d85dd"
      },
      "source": [
        "model.summary()"
      ],
      "execution_count": 22,
      "outputs": [
        {
          "output_type": "stream",
          "text": [
            "Model: \"functional_3\"\n",
            "_________________________________________________________________\n",
            "Layer (type)                 Output Shape              Param #   \n",
            "=================================================================\n",
            "input_3 (InputLayer)         [(None, 10, 3)]           0         \n",
            "_________________________________________________________________\n",
            "simple_rnn_2 (SimpleRNN)     (None, 5)                 45        \n",
            "_________________________________________________________________\n",
            "dense_2 (Dense)              (None, 2)                 12        \n",
            "=================================================================\n",
            "Total params: 57\n",
            "Trainable params: 57\n",
            "Non-trainable params: 0\n",
            "_________________________________________________________________\n"
          ],
          "name": "stdout"
        }
      ]
    },
    {
      "cell_type": "code",
      "metadata": {
        "id": "bqj_Il2jHPf4",
        "colab_type": "code",
        "colab": {
          "base_uri": "https://localhost:8080/",
          "height": 35
        },
        "outputId": "5a32fa36-be92-47ee-a54c-1d4f19d3d74e"
      },
      "source": [
        "a, b, c = model.layers[1].get_weights()\n",
        "print(a.shape, b.shape, c.shape)"
      ],
      "execution_count": 23,
      "outputs": [
        {
          "output_type": "stream",
          "text": [
            "(3, 5) (5, 5) (5,)\n"
          ],
          "name": "stdout"
        }
      ]
    },
    {
      "cell_type": "code",
      "metadata": {
        "id": "4_bITosPHWxS",
        "colab_type": "code",
        "colab": {}
      },
      "source": [
        "Wx, Wh, bh = model.layers[1].get_weights()\n",
        "Wo, bo = model.layers[2].get_weights()"
      ],
      "execution_count": 24,
      "outputs": []
    },
    {
      "cell_type": "code",
      "metadata": {
        "id": "ZXcu1C3VH-kO",
        "colab_type": "code",
        "colab": {
          "base_uri": "https://localhost:8080/",
          "height": 72
        },
        "outputId": "e38b6e2b-eec5-4624-ac94-9e7dc83bf3d7"
      },
      "source": [
        "for n in range(N):\n",
        "  h_last = np.zeros(M) # initial hidden state\n",
        "  x = X[n]\n",
        "  Yhats = []\n",
        "\n",
        "  for t in range(T):\n",
        "    h = np.tanh(x[t].dot(Wx) + h_last.dot(Wh) + bh)\n",
        "    y = h.dot(Wo) + bo\n",
        "    Yhats.append(y)\n",
        "\n",
        "    h_last = h\n",
        "\n",
        "  print(Yhats[-1])"
      ],
      "execution_count": 25,
      "outputs": [
        {
          "output_type": "stream",
          "text": [
            "[0.5252523  0.11059869]\n",
            "[0.45437698 0.56006342]\n",
            "[ 1.19979153 -0.56307253]\n"
          ],
          "name": "stdout"
        }
      ]
    },
    {
      "cell_type": "code",
      "metadata": {
        "id": "zWJDc0-VJ6PQ",
        "colab_type": "code",
        "colab": {}
      },
      "source": [
        ""
      ],
      "execution_count": null,
      "outputs": []
    }
  ]
}