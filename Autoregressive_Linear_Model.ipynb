{
  "nbformat": 4,
  "nbformat_minor": 0,
  "metadata": {
    "colab": {
      "name": "Autoregressive Linear Model",
      "provenance": [],
      "authorship_tag": "ABX9TyPahd5S7x3T6o92SNOMau3f",
      "include_colab_link": true
    },
    "kernelspec": {
      "name": "python3",
      "display_name": "Python 3"
    }
  },
  "cells": [
    {
      "cell_type": "markdown",
      "metadata": {
        "id": "view-in-github",
        "colab_type": "text"
      },
      "source": [
        "<a href=\"https://colab.research.google.com/github/slanucha/deep_learning_colab/blob/master/Autoregressive_Linear_Model.ipynb\" target=\"_parent\"><img src=\"https://colab.research.google.com/assets/colab-badge.svg\" alt=\"Open In Colab\"/></a>"
      ]
    },
    {
      "cell_type": "code",
      "metadata": {
        "id": "HKWPoRHx1sBP",
        "colab_type": "code",
        "colab": {}
      },
      "source": [
        "import tensorflow as tf\n",
        "\n",
        "from tensorflow.keras.layers import Input, Dense\n",
        "from tensorflow.keras.models import Model\n",
        "from tensorflow.keras.optimizers import SGD, Adam\n",
        "\n",
        "import numpy as np\n",
        "import pandas as pd\n",
        "import matplotlib.pyplot as plt"
      ],
      "execution_count": null,
      "outputs": []
    },
    {
      "cell_type": "markdown",
      "metadata": {
        "id": "9zYwYpPO2mu1",
        "colab_type": "text"
      },
      "source": [
        "# Data"
      ]
    },
    {
      "cell_type": "code",
      "metadata": {
        "id": "Ngt6Uyqn2Tq5",
        "colab_type": "code",
        "colab": {
          "base_uri": "https://localhost:8080/",
          "height": 265
        },
        "outputId": "d3aa93dd-1c42-4dd1-d7b1-af6dc7a171cb"
      },
      "source": [
        "series = np.sin(0.1 * np.arange(200)) + np.random.randn(200) * 0.1\n",
        "\n",
        "plt.plot(series)\n",
        "plt.show()"
      ],
      "execution_count": null,
      "outputs": [
        {
          "output_type": "display_data",
          "data": {
            "image/png": "[encoded data removed]",
            "text/plain": [
              "<Figure size 432x288 with 1 Axes>"
            ]
          },
          "metadata": {
            "tags": [],
            "needs_background": "light"
          }
        }
      ]
    },
    {
      "cell_type": "code",
      "metadata": {
        "id": "_-YkTk4621QU",
        "colab_type": "code",
        "colab": {
          "base_uri": "https://localhost:8080/",
          "height": 35
        },
        "outputId": "76b04932-4de0-419a-876e-02de7ac64268"
      },
      "source": [
        "T = 10\n",
        "X = []\n",
        "Y = []\n",
        "\n",
        "for t in range(len(series) - T):\n",
        "  x = series[t:t+T]\n",
        "  X.append(x)\n",
        "  y = series[t+T]\n",
        "  Y.append(y)\n",
        "\n",
        "X = np.array(X).reshape(-1, T)\n",
        "Y = np.array(Y)\n",
        "N = len(X)\n",
        "print(\"X.shape:\", X.shape, \"Y shape:\", Y.shape)"
      ],
      "execution_count": null,
      "outputs": [
        {
          "output_type": "stream",
          "text": [
            "X.shape: (190, 10) Y shape: (190,)\n"
          ],
          "name": "stdout"
        }
      ]
    },
    {
      "cell_type": "markdown",
      "metadata": {
        "id": "5Qf1Qq2U6QHW",
        "colab_type": "text"
      },
      "source": [
        "Model"
      ]
    },
    {
      "cell_type": "code",
      "metadata": {
        "id": "I3JwYG0z5OSx",
        "colab_type": "code",
        "colab": {}
      },
      "source": [
        "i = Input(shape=(T,))\n",
        "x = Dense(1)(i)\n",
        "model = Model(i, x)\n",
        "model.compile(loss='mse', optimizer=Adam(lr=0.1))"
      ],
      "execution_count": null,
      "outputs": []
    },
    {
      "cell_type": "code",
      "metadata": {
        "id": "7MBFu6Qq6pN3",
        "colab_type": "code",
        "colab": {
          "base_uri": "https://localhost:8080/",
          "height": 1000
        },
        "outputId": "af3e6948-0315-4636-c441-6f2733c6f61e"
      },
      "source": [
        "r = model.fit(X[:-N//2], Y[:-N//2], epochs=80, validation_data=(X[-N//2:], Y[-N//2:]))"
      ],
      "execution_count": null,
      "outputs": [
        {
          "output_type": "stream",
          "text": [
            "Epoch 1/80\n",
            "3/3 [==============================] - 0s 31ms/step - loss: 0.2499 - val_loss: 0.1313\n",
            "Epoch 2/80\n",
            "3/3 [==============================] - 0s 8ms/step - loss: 0.0827 - val_loss: 0.1408\n",
            "Epoch 3/80\n",
            "3/3 [==============================] - 0s 7ms/step - loss: 0.1364 - val_loss: 0.0283\n",
            "Epoch 4/80\n",
            "3/3 [==============================] - 0s 8ms/step - loss: 0.0678 - val_loss: 0.1138\n",
            "Epoch 5/80\n",
            "3/3 [==============================] - 0s 7ms/step - loss: 0.0687 - val_loss: 0.0345\n",
            "Epoch 6/80\n",
            "3/3 [==============================] - 0s 7ms/step - loss: 0.0589 - val_loss: 0.0653\n",
            "Epoch 7/80\n",
            "3/3 [==============================] - 0s 7ms/step - loss: 0.0404 - val_loss: 0.0360\n",
            "Epoch 8/80\n",
            "3/3 [==============================] - 0s 7ms/step - loss: 0.0434 - val_loss: 0.0335\n",
            "Epoch 9/80\n",
            "3/3 [==============================] - 0s 7ms/step - loss: 0.0262 - val_loss: 0.0354\n",
            "Epoch 10/80\n",
            "3/3 [==============================] - 0s 8ms/step - loss: 0.0319 - val_loss: 0.0241\n",
            "Epoch 11/80\n",
            "3/3 [==============================] - 0s 8ms/step - loss: 0.0234 - val_loss: 0.0286\n",
            "Epoch 12/80\n",
            "3/3 [==============================] - 0s 7ms/step - loss: 0.0235 - val_loss: 0.0242\n",
            "Epoch 13/80\n",
            "3/3 [==============================] - 0s 9ms/step - loss: 0.0210 - val_loss: 0.0233\n",
            "Epoch 14/80\n",
            "3/3 [==============================] - 0s 8ms/step - loss: 0.0194 - val_loss: 0.0226\n",
            "Epoch 15/80\n",
            "3/3 [==============================] - 0s 7ms/step - loss: 0.0191 - val_loss: 0.0221\n",
            "Epoch 16/80\n",
            "3/3 [==============================] - 0s 7ms/step - loss: 0.0185 - val_loss: 0.0218\n",
            "Epoch 17/80\n",
            "3/3 [==============================] - 0s 8ms/step - loss: 0.0182 - val_loss: 0.0217\n",
            "Epoch 18/80\n",
            "3/3 [==============================] - 0s 7ms/step - loss: 0.0182 - val_loss: 0.0213\n",
            "Epoch 19/80\n",
            "3/3 [==============================] - 0s 8ms/step - loss: 0.0180 - val_loss: 0.0210\n",
            "Epoch 20/80\n",
            "3/3 [==============================] - 0s 7ms/step - loss: 0.0174 - val_loss: 0.0206\n",
            "Epoch 21/80\n",
            "3/3 [==============================] - 0s 7ms/step - loss: 0.0174 - val_loss: 0.0202\n",
            "Epoch 22/80\n",
            "3/3 [==============================] - 0s 8ms/step - loss: 0.0176 - val_loss: 0.0199\n",
            "Epoch 23/80\n",
            "3/3 [==============================] - 0s 7ms/step - loss: 0.0187 - val_loss: 0.0200\n",
            "Epoch 24/80\n",
            "3/3 [==============================] - 0s 8ms/step - loss: 0.0177 - val_loss: 0.0205\n",
            "Epoch 25/80\n",
            "3/3 [==============================] - 0s 7ms/step - loss: 0.0169 - val_loss: 0.0196\n",
            "Epoch 26/80\n",
            "3/3 [==============================] - 0s 8ms/step - loss: 0.0167 - val_loss: 0.0189\n",
            "Epoch 27/80\n",
            "3/3 [==============================] - 0s 7ms/step - loss: 0.0166 - val_loss: 0.0187\n",
            "Epoch 28/80\n",
            "3/3 [==============================] - 0s 7ms/step - loss: 0.0162 - val_loss: 0.0186\n",
            "Epoch 29/80\n",
            "3/3 [==============================] - 0s 8ms/step - loss: 0.0155 - val_loss: 0.0183\n",
            "Epoch 30/80\n",
            "3/3 [==============================] - 0s 7ms/step - loss: 0.0159 - val_loss: 0.0183\n",
            "Epoch 31/80\n",
            "3/3 [==============================] - 0s 8ms/step - loss: 0.0170 - val_loss: 0.0182\n",
            "Epoch 32/80\n",
            "3/3 [==============================] - 0s 8ms/step - loss: 0.0153 - val_loss: 0.0188\n",
            "Epoch 33/80\n",
            "3/3 [==============================] - 0s 9ms/step - loss: 0.0161 - val_loss: 0.0180\n",
            "Epoch 34/80\n",
            "3/3 [==============================] - 0s 8ms/step - loss: 0.0156 - val_loss: 0.0173\n",
            "Epoch 35/80\n",
            "3/3 [==============================] - 0s 8ms/step - loss: 0.0159 - val_loss: 0.0173\n",
            "Epoch 36/80\n",
            "3/3 [==============================] - 0s 9ms/step - loss: 0.0146 - val_loss: 0.0176\n",
            "Epoch 37/80\n",
            "3/3 [==============================] - 0s 7ms/step - loss: 0.0155 - val_loss: 0.0169\n",
            "Epoch 38/80\n",
            "3/3 [==============================] - 0s 8ms/step - loss: 0.0156 - val_loss: 0.0170\n",
            "Epoch 39/80\n",
            "3/3 [==============================] - 0s 8ms/step - loss: 0.0146 - val_loss: 0.0168\n",
            "Epoch 40/80\n",
            "3/3 [==============================] - 0s 8ms/step - loss: 0.0147 - val_loss: 0.0165\n",
            "Epoch 41/80\n",
            "3/3 [==============================] - 0s 12ms/step - loss: 0.0149 - val_loss: 0.0165\n",
            "Epoch 42/80\n",
            "3/3 [==============================] - 0s 7ms/step - loss: 0.0142 - val_loss: 0.0172\n",
            "Epoch 43/80\n",
            "3/3 [==============================] - 0s 7ms/step - loss: 0.0147 - val_loss: 0.0167\n",
            "Epoch 44/80\n",
            "3/3 [==============================] - 0s 7ms/step - loss: 0.0155 - val_loss: 0.0161\n",
            "Epoch 45/80\n",
            "3/3 [==============================] - 0s 7ms/step - loss: 0.0154 - val_loss: 0.0160\n",
            "Epoch 46/80\n",
            "3/3 [==============================] - 0s 8ms/step - loss: 0.0161 - val_loss: 0.0169\n",
            "Epoch 47/80\n",
            "3/3 [==============================] - 0s 7ms/step - loss: 0.0152 - val_loss: 0.0171\n",
            "Epoch 48/80\n",
            "3/3 [==============================] - 0s 8ms/step - loss: 0.0167 - val_loss: 0.0160\n",
            "Epoch 49/80\n",
            "3/3 [==============================] - 0s 9ms/step - loss: 0.0136 - val_loss: 0.0167\n",
            "Epoch 50/80\n",
            "3/3 [==============================] - 0s 9ms/step - loss: 0.0147 - val_loss: 0.0159\n",
            "Epoch 51/80\n",
            "3/3 [==============================] - 0s 7ms/step - loss: 0.0141 - val_loss: 0.0156\n",
            "Epoch 52/80\n",
            "3/3 [==============================] - 0s 7ms/step - loss: 0.0140 - val_loss: 0.0155\n",
            "Epoch 53/80\n",
            "3/3 [==============================] - 0s 7ms/step - loss: 0.0137 - val_loss: 0.0153\n",
            "Epoch 54/80\n",
            "3/3 [==============================] - 0s 7ms/step - loss: 0.0159 - val_loss: 0.0154\n",
            "Epoch 55/80\n",
            "3/3 [==============================] - 0s 7ms/step - loss: 0.0162 - val_loss: 0.0155\n",
            "Epoch 56/80\n",
            "3/3 [==============================] - 0s 8ms/step - loss: 0.0208 - val_loss: 0.0160\n",
            "Epoch 57/80\n",
            "3/3 [==============================] - 0s 8ms/step - loss: 0.0196 - val_loss: 0.0184\n",
            "Epoch 58/80\n",
            "3/3 [==============================] - 0s 8ms/step - loss: 0.0149 - val_loss: 0.0197\n",
            "Epoch 59/80\n",
            "3/3 [==============================] - 0s 8ms/step - loss: 0.0174 - val_loss: 0.0187\n",
            "Epoch 60/80\n",
            "3/3 [==============================] - 0s 9ms/step - loss: 0.0158 - val_loss: 0.0187\n",
            "Epoch 61/80\n",
            "3/3 [==============================] - 0s 8ms/step - loss: 0.0164 - val_loss: 0.0160\n",
            "Epoch 62/80\n",
            "3/3 [==============================] - 0s 8ms/step - loss: 0.0166 - val_loss: 0.0151\n",
            "Epoch 63/80\n",
            "3/3 [==============================] - 0s 9ms/step - loss: 0.0144 - val_loss: 0.0152\n",
            "Epoch 64/80\n",
            "3/3 [==============================] - 0s 9ms/step - loss: 0.0154 - val_loss: 0.0154\n",
            "Epoch 65/80\n",
            "3/3 [==============================] - 0s 8ms/step - loss: 0.0140 - val_loss: 0.0168\n",
            "Epoch 66/80\n",
            "3/3 [==============================] - 0s 7ms/step - loss: 0.0155 - val_loss: 0.0151\n",
            "Epoch 67/80\n",
            "3/3 [==============================] - 0s 7ms/step - loss: 0.0143 - val_loss: 0.0151\n",
            "Epoch 68/80\n",
            "3/3 [==============================] - 0s 8ms/step - loss: 0.0138 - val_loss: 0.0156\n",
            "Epoch 69/80\n",
            "3/3 [==============================] - 0s 8ms/step - loss: 0.0145 - val_loss: 0.0158\n",
            "Epoch 70/80\n",
            "3/3 [==============================] - 0s 7ms/step - loss: 0.0135 - val_loss: 0.0152\n",
            "Epoch 71/80\n",
            "3/3 [==============================] - 0s 8ms/step - loss: 0.0141 - val_loss: 0.0156\n",
            "Epoch 72/80\n",
            "3/3 [==============================] - 0s 7ms/step - loss: 0.0136 - val_loss: 0.0155\n",
            "Epoch 73/80\n",
            "3/3 [==============================] - 0s 7ms/step - loss: 0.0149 - val_loss: 0.0156\n",
            "Epoch 74/80\n",
            "3/3 [==============================] - 0s 7ms/step - loss: 0.0142 - val_loss: 0.0146\n",
            "Epoch 75/80\n",
            "3/3 [==============================] - 0s 8ms/step - loss: 0.0138 - val_loss: 0.0147\n",
            "Epoch 76/80\n",
            "3/3 [==============================] - 0s 8ms/step - loss: 0.0143 - val_loss: 0.0147\n",
            "Epoch 77/80\n",
            "3/3 [==============================] - 0s 9ms/step - loss: 0.0138 - val_loss: 0.0147\n",
            "Epoch 78/80\n",
            "3/3 [==============================] - 0s 8ms/step - loss: 0.0132 - val_loss: 0.0152\n",
            "Epoch 79/80\n",
            "3/3 [==============================] - 0s 7ms/step - loss: 0.0141 - val_loss: 0.0151\n",
            "Epoch 80/80\n",
            "3/3 [==============================] - 0s 8ms/step - loss: 0.0139 - val_loss: 0.0146\n"
          ],
          "name": "stdout"
        }
      ]
    },
    {
      "cell_type": "code",
      "metadata": {
        "id": "yRYrcegG7KZj",
        "colab_type": "code",
        "colab": {
          "base_uri": "https://localhost:8080/",
          "height": 283
        },
        "outputId": "4d426b8b-ac8e-4a4a-c359-7f11403dab15"
      },
      "source": [
        "plt.plot(r.history['loss'], label='loss')\n",
        "plt.plot(r.history['val_loss'], label='val_loss')\n",
        "plt.legend()"
      ],
      "execution_count": null,
      "outputs": [
        {
          "output_type": "execute_result",
          "data": {
            "text/plain": [
              "<matplotlib.legend.Legend at 0x7fc61d75cb70>"
            ]
          },
          "metadata": {
            "tags": []
          },
          "execution_count": 28
        },
        {
          "output_type": "display_data",
          "data": {
            "image/png": "[encoded data removed]",
            "text/plain": [
              "<Figure size 432x288 with 1 Axes>"
            ]
          },
          "metadata": {
            "tags": [],
            "needs_background": "light"
          }
        }
      ]
    },
    {
      "cell_type": "markdown",
      "metadata": {
        "id": "mgwVF8wzJo33",
        "colab_type": "text"
      },
      "source": [
        "# Forecast"
      ]
    },
    {
      "cell_type": "code",
      "metadata": {
        "id": "RD4aWGGJ723D",
        "colab_type": "code",
        "colab": {}
      },
      "source": [
        "sive validation_target = Y[-N//2:]\n",
        "validation_predictions = []\n",
        "\n",
        "last_x = X[-N//2]\n",
        "\n",
        "while len(validation_predictions) < len(validation_target):\n",
        "  p = model.predict(last_x.reshape(1, -1))[0, 0]\n",
        "  validation_predictions.append(p)\n",
        "\n",
        "  last_x = np.roll(last_x, -1)\n",
        "  last_x[-1] = p"
      ],
      "execution_count": null,
      "outputs": []
    },
    {
      "cell_type": "code",
      "metadata": {
        "id": "gkk4QoOGKaRC",
        "colab_type": "code",
        "colab": {
          "base_uri": "https://localhost:8080/",
          "height": 265
        },
        "outputId": "571d3d49-8c09-4a3a-e207-2fef1f33860b"
      },
      "source": [
        "plt.plot(validation_target, label='validation_target')\n",
        "plt.plot(validation_predictions, label='validation_predictions')\n",
        "plt.legend()\n",
        "plt.show()"
      ],
      "execution_count": null,
      "outputs": [
        {
          "output_type": "display_data",
          "data": {
            "image/png": "[encoded data removed]",
            "text/plain": [
              "<Figure size 432x288 with 1 Axes>"
            ]
          },
          "metadata": {
            "tags": [],
            "needs_background": "light"
          }
        }
      ]
    },
    {
      "cell_type": "code",
      "metadata": {
        "id": "oL-2HSUDKtkt",
        "colab_type": "code",
        "colab": {}
      },
      "source": [
        ""
      ],
      "execution_count": null,
      "outputs": []
    }
  ]
}